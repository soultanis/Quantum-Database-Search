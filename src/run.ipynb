{
 "cells": [
  {
   "cell_type": "code",
   "execution_count": null,
   "metadata": {},
   "outputs": [
    {
     "name": "stdout",
     "output_type": "stream",
     "text": [
      "Importing modules\n",
      "Number of qubits is 2\n",
      "QuantumRegister(2, 'q10')\n",
      "n is  2\n",
      "Repetition of ORACLE+DIFFUSION boxes required: 1\n",
      "negating special state 01\n",
      "Online real backend\n",
      "Backend name is ibmq_16_melbourne; max_credits = 3, shots = 4098\n",
      "Importing modules\n",
      "Backend has 6 pending jobs\n",
      "Compiling ... \n",
      "Job id is 5c3357630fc4f2005836f024\n",
      "At this point, if any error occurs, you can always retrieve the job results using the backend name and the job id using the utils/retrieve_job_results.py script\n"
     ]
    },
    {
     "name": "stdin",
     "output_type": "stream",
     "text": [
      "Do you want to wait for the job to go up in the queue list or exit the program(q)? If you exit now you can still retrieve the job results later on using the backend name and the job id w/ the utils/retrieve_job_results.py script exit\n"
     ]
    }
   ],
   "source": [
    "import grover_test as gt\n",
    "\n",
    "# Simulator-Backend\n",
    "# output = gt.build_and_run(3, [1])\n",
    "\n",
    "# IBMQ-Backend\n",
    "output = gt.build_and_run(2, [1], real=True, online=True)\n",
    "\n",
    "print(output)"
   ]
  },
  {
   "cell_type": "code",
   "execution_count": null,
   "metadata": {},
   "outputs": [],
   "source": []
  }
 ],
 "metadata": {
  "kernelspec": {
   "display_name": "Python (Qiskitenv)",
   "language": "python",
   "name": "qiskitenv"
  },
  "language_info": {
   "codemirror_mode": {
    "name": "ipython",
    "version": 3
   },
   "file_extension": ".py",
   "mimetype": "text/x-python",
   "name": "python",
   "nbconvert_exporter": "python",
   "pygments_lexer": "ipython3",
   "version": "3.7.1"
  }
 },
 "nbformat": 4,
 "nbformat_minor": 2
}
